{
 "cells": [
  {
   "cell_type": "markdown",
   "metadata": {},
   "source": [
    "# *Integration by Simpsons' One Third Rule*\n",
    "\n",
    "\\begin{align*}\n",
    "Area &= \\int_a ^b f(x)dx\\\\\n",
    "     &\\approx \\frac{\\Delta{x}}{3} \\left( y_0 + 4y_1 + 2y_2 + 4y_3 + 2y_4 + \\dots +4y_{n-1} +y_n \\right)\\ \\ \\ \\ \\ \\text{where } \\Delta{x} = \\frac{b-a}{n} \\text{ and } y_i =f(x_i)\n",
    "\\end{align*}      \n",
    "\n",
    "*Python Script for Simpsons' One-third rule*\n",
    "\n",
    "```python\n",
    "for i in range(len(X)):         # X is the array of variable x\n",
    "    if i == 0 or i == steps:\n",
    "        Y[i] = f(X[i])\n",
    "    else:\n",
    "        if i%2 != 0:\n",
    "            Y[i] = 4*f(X[i])\n",
    "        else:\n",
    "            Y[i] = 2*f(X[i])    \n",
    "\n",
    "Val = h/3*np.sum(Y)                 #h is the the length of the small interval\n",
    "```"
   ]
  },
  {
   "cell_type": "markdown",
   "metadata": {},
   "source": [
    "##### **Important modules to import**"
   ]
  },
  {
   "cell_type": "code",
   "execution_count": 6,
   "metadata": {},
   "outputs": [],
   "source": [
    "import numpy as np\n",
    "import matplotlib.pyplot as plt\n",
    "\n",
    "%matplotlib inline"
   ]
  },
  {
   "cell_type": "markdown",
   "metadata": {},
   "source": [
    "### Problem 1. *Evaluate the integral with the integrand function $f(x) = exp(x)$*"
   ]
  },
  {
   "cell_type": "code",
   "execution_count": 24,
   "metadata": {},
   "outputs": [
    {
     "name": "stdout",
     "output_type": "stream",
     "text": [
      "The lower limit is:  0.0\n",
      "The upper limit is:  6.0\n",
      "\n",
      "The approximate value of the definite integral within the interval [0.0 , 6.0] is: 385.6929\n"
     ]
    }
   ],
   "source": [
    "#Taking various inputs from the User\n",
    "low = float(input(\"Enter the lower limit of the Integration: \"))\n",
    "upp = float(input(\"Enter the upper limit of the integration: \"))\n",
    "steps = int(input(\"Enter the number of steps: \"))\n",
    "\n",
    "X,h = np.linspace(low, upp, steps+1, retstep=True)\n",
    "Y = np.zeros(steps+1)\n",
    "\n",
    "print(\"The lower limit is: \",low)\n",
    "print(\"The upper limit is: \",upp)\n",
    "\n",
    "\n",
    "#defining the function\n",
    "def f(x):\n",
    "    exp = np.exp(x)\n",
    "    return exp\n",
    "\n",
    "\n",
    "#evaluating the integral with the simpsons' one-third rule\n",
    "for i in range(len(X)):        \n",
    "    if i==0 or i== steps:\n",
    "        Y[i] = f(X[i])\n",
    "    else:\n",
    "        if i%2 != 0:\n",
    "            Y[i] = 4*f(X[i])\n",
    "        else:\n",
    "            Y[i] = 2*f(X[i])    \n",
    "Val = h/3*np.sum(Y)\n",
    "\n",
    "print(f\"\\nThe approximate value of the definite integral within the interval [{low} , {upp}] is: %.4f\" %Val)"
   ]
  },
  {
   "cell_type": "markdown",
   "metadata": {},
   "source": [
    "### Problem 2:\n",
    "*Data table shows the instantaneous velocity of a car at every five minutes. Use Simpsons' method to calculate the displacement of the car in the first 30 minutes.* \n",
    "**.e.g.**\n",
    "\n",
    "![table](table.jpg)"
   ]
  },
  {
   "cell_type": "code",
   "execution_count": 35,
   "metadata": {},
   "outputs": [
    {
     "name": "stdout",
     "output_type": "stream",
     "text": [
      "The starting time is:  0.0\n",
      "The stopping time is after:  30.0 minutes\n",
      "Smallest interval of time between two consecutive data-points is of 5.0 minutes\n",
      "\n",
      "\n",
      "Time \t\t Velocity\n",
      "0.0 \t\t 25.0\n",
      "5.0 \t\t 28.0\n",
      "10.0 \t\t 32.0\n",
      "15.0 \t\t 30.0\n",
      "20.0 \t\t 29.0\n",
      "25.0 \t\t 26.0\n",
      "30.0 \t\t 23.0\n",
      "\n",
      "The approximate displacement of the car within the time interval of [0.0 , 30.0] minute is: 50600.00 meters or 50.60 Kilo-meters\n"
     ]
    }
   ],
   "source": [
    "#Taking various inputs from the User\n",
    "low = float(input(\"Enter the starting time of the car in minute: \"))\n",
    "upp = float(input(\"Enter the stopping time of the car in minute: \"))\n",
    "steps = int(input(\"Enter the number of sub-intervals: \"))\n",
    "\n",
    "X,h = np.linspace(low, upp, steps+1, retstep=True)\n",
    "Y = np.zeros(steps+1)\n",
    "\n",
    "print(\"The starting time is: \",low)\n",
    "print(\"The stopping time is after: \",upp,\"minutes\")\n",
    "print(\"Smallest interval of time between two consecutive data-points is of\",h,\"minutes\\n\\n\")\n",
    "\n",
    "for i in range(steps+1):\n",
    "    Y[i] = int(input(f\"Enter the instantaneous velocity in(m/s) of the car at {X[i]} minutes: \"))\n",
    "    \n",
    "\n",
    "#printing the input data(s)\n",
    "print(\"Time \\t\\t Velocity\")    \n",
    "for i in range(steps+1):\n",
    "    print(X[i],\"\\t\\t\",Y[i])\n",
    "\n",
    "\n",
    "#evaluating the Displacement with the Simpsons' one-third rule\n",
    "for i in range(len(X)):        \n",
    "    if i==0 or i== steps:\n",
    "        Y[i] = Y[i]\n",
    "    else:\n",
    "        if i%2 != 0:\n",
    "            Y[i] = 4*Y[i]\n",
    "        else:\n",
    "            Y[i] = 2*Y[i]    \n",
    "\n",
    "h = h*60        #The time was in minute\n",
    "Val = h/3*np.sum(Y)\n",
    "\n",
    "print(f\"\\nThe approximate displacement of the car within the time interval of [{low} , {upp}] minute is: %.2f\" %Val,\"meters or %.2f\"%(Val/1000),\"Kilo-meters\")    "
   ]
  }
 ],
 "metadata": {
  "kernelspec": {
   "display_name": "Python 3.10.7 64-bit",
   "language": "python",
   "name": "python3"
  },
  "language_info": {
   "codemirror_mode": {
    "name": "ipython",
    "version": 3
   },
   "file_extension": ".py",
   "mimetype": "text/x-python",
   "name": "python",
   "nbconvert_exporter": "python",
   "pygments_lexer": "ipython3",
   "version": "3.10.7"
  },
  "orig_nbformat": 4,
  "vscode": {
   "interpreter": {
    "hash": "c9b630e454a976c80bd2e35126ec9caf06ac3becf9395c3f2d075f456e8c1066"
   }
  }
 },
 "nbformat": 4,
 "nbformat_minor": 2
}
